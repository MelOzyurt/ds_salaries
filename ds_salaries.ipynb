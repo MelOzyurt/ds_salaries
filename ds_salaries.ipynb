{
 "cells": [
  {
   "cell_type": "code",
   "execution_count": null,
   "id": "028851a3-35b8-4d35-a942-1337398681b1",
   "metadata": {},
   "outputs": [
    {
     "name": "stdout",
     "output_type": "stream",
     "text": [
      "Available columns:\n",
      " Index(['Designation', 'Experience', 'Salary_USD'], dtype='object') \n",
      "\n",
      "Available Job Titles:\n",
      " ['Data Scientist' 'Machine Learning Scientist' 'Big Data Engineer'\n",
      " 'Product Data Analyst' 'Machine Learning Engineer' 'Data Analyst'\n",
      " 'Lead Data Scientist' 'Business Data Analyst' 'Lead Data Engineer'\n",
      " 'Lead Data Analyst' 'Data Engineer' 'Data Science Consultant'\n",
      " 'BI Data Analyst' 'Director of Data Science' 'Research Scientist'\n",
      " 'Machine Learning Manager' 'Data Engineering Manager'\n",
      " 'Machine Learning Infrastructure Engineer' 'ML Engineer' 'AI Scientist'\n",
      " 'Computer Vision Engineer' 'Principal Data Scientist'\n",
      " 'Data Science Manager' 'Head of Data' '3D Computer Vision Researcher'\n",
      " 'Data Analytics Engineer' 'Applied Data Scientist'\n",
      " 'Marketing Data Analyst' 'Cloud Data Engineer' 'Financial Data Analyst'\n",
      " 'Computer Vision Software Engineer' 'Director of Data Engineering'\n",
      " 'Data Science Engineer' 'Principal Data Engineer'\n",
      " 'Machine Learning Developer' 'Applied Machine Learning Scientist'\n",
      " 'Data Analytics Manager' 'Head of Data Science' 'Data Specialist'\n",
      " 'Data Architect' 'Finance Data Analyst' 'Principal Data Analyst'\n",
      " 'Big Data Architect' 'Staff Data Scientist' 'Analytics Engineer'\n",
      " 'ETL Developer' 'Head of Machine Learning' 'NLP Engineer'\n",
      " 'Lead Machine Learning Engineer' 'Data Analytics Lead'] \n",
      "\n",
      "Available Experience Levels:\n",
      " ['Mid' 'Senior' 'Entry' 'Executive'] \n",
      "\n"
     ]
    },
    {
     "name": "stdin",
     "output_type": "stream",
     "text": [
      "Enter a job title (or type 'exit' to quit):  Data Scientist\n",
      "Enter the experience level (e.g., Entry, Mid, Senior, Executive):  Senior\n"
     ]
    },
    {
     "name": "stdout",
     "output_type": "stream",
     "text": [
      "\n",
      "Results for: Data Scientist with Senior experience\n",
      "Min salary:     $19,260.00\n",
      "Average salary: $146,061.98\n",
      "Max salary:     $393,392.00\n",
      "\n"
     ]
    },
    {
     "name": "stdin",
     "output_type": "stream",
     "text": [
      "Enter a job title (or type 'exit' to quit):  ETL Developer\n",
      "Enter the experience level (e.g., Entry, Mid, Senior, Executive):  Mid\n"
     ]
    },
    {
     "name": "stdout",
     "output_type": "stream",
     "text": [
      "\n",
      "Results for: ETL Developer with Mid experience\n",
      "Min salary:     $52,475.00\n",
      "Average salary: $52,475.00\n",
      "Max salary:     $52,475.00\n",
      "\n"
     ]
    },
    {
     "name": "stdin",
     "output_type": "stream",
     "text": [
      "Enter a job title (or type 'exit' to quit):  Head of Machine Lerning\n",
      "Enter the experience level (e.g., Entry, Mid, Senior, Executive):  Mid\n"
     ]
    },
    {
     "name": "stdout",
     "output_type": "stream",
     "text": [
      "\n",
      "❌ No matching data found. Please check your inputs.\n",
      "\n"
     ]
    },
    {
     "name": "stdin",
     "output_type": "stream",
     "text": [
      "Enter a job title (or type 'exit' to quit):  Head of Machine Learning\n",
      "Enter the experience level (e.g., Entry, Mid, Senior, Executive):  Executive\n"
     ]
    },
    {
     "name": "stdout",
     "output_type": "stream",
     "text": [
      "\n",
      "Results for: Head of Machine Learning with Executive experience\n",
      "Min salary:     $75,469.00\n",
      "Average salary: $75,469.00\n",
      "Max salary:     $75,469.00\n",
      "\n"
     ]
    }
   ],
   "source": [
    "import pandas as pd\n",
    "\n",
    "# Load dataset from RAW GitHub URL\n",
    "url = \"https://raw.githubusercontent.com/MelOzyurt/ds_salaries/main/ds_salaries_clean.csv\"\n",
    "df = pd.read_csv(url)\n",
    "\n",
    "# Show actual column names for reference\n",
    "print(\"Available columns:\\n\", df.columns, \"\\n\")\n",
    "\n",
    "# Define the columns (update these if needed)\n",
    "designation_col = \"Designation\"\n",
    "experience_col = \"Experience\"\n",
    "salary_col = \"Salary_USD\"\n",
    "\n",
    "# Display options once\n",
    "print(\"Available Job Titles:\\n\", df[designation_col].unique(), \"\\n\")\n",
    "print(\"Available Experience Levels:\\n\", df[experience_col].unique(), \"\\n\")\n",
    "\n",
    "# Start interactive loop\n",
    "while True:\n",
    "    designation = input(\"Enter a job title (or type 'exit' to quit): \")\n",
    "    if designation.lower() == \"exit\":\n",
    "        print(\"Goodbye! 👋\")\n",
    "        break\n",
    "\n",
    "    experience = input(\"Enter the experience level (e.g., Entry, Mid, Senior, Executive): \")\n",
    "\n",
    "    # Filter dataset\n",
    "    filtered = df[(df[designation_col] == designation) & (df[experience_col] == experience)]\n",
    "\n",
    "    if not filtered.empty:\n",
    "        print(f\"\\nResults for: {designation} with {experience} experience\")\n",
    "        print(f\"Min salary:     ${filtered[salary_col].min():,.2f}\")\n",
    "        print(f\"Average salary: ${filtered[salary_col].mean():,.2f}\")\n",
    "        print(f\"Max salary:     ${filtered[salary_col].max():,.2f}\\n\")\n",
    "    else:\n",
    "        print(\"\\n❌ No matching data found. Please check your inputs.\\n\")\n"
   ]
  },
  {
   "cell_type": "code",
   "execution_count": null,
   "id": "2a2dc65a-9161-49cb-bf0b-05229ea99a4b",
   "metadata": {},
   "outputs": [],
   "source": []
  }
 ],
 "metadata": {
  "kernelspec": {
   "display_name": "Python 3 (ipykernel)",
   "language": "python",
   "name": "python3"
  },
  "language_info": {
   "codemirror_mode": {
    "name": "ipython",
    "version": 3
   },
   "file_extension": ".py",
   "mimetype": "text/x-python",
   "name": "python",
   "nbconvert_exporter": "python",
   "pygments_lexer": "ipython3",
   "version": "3.13.2"
  }
 },
 "nbformat": 4,
 "nbformat_minor": 5
}
